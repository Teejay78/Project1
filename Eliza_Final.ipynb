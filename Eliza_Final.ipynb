{
 "cells": [
  {
   "cell_type": "markdown",
   "id": "40e9e644-ea5e-404a-a12a-8feb7f31901e",
   "metadata": {},
   "source": [
    "# Eliza Chatbot\n",
    "Project group 10 - Taylor Payne, Zachary Richardson, Timothy Slivka, Cody Boswell"
   ]
  },
  {
   "cell_type": "markdown",
   "id": "fea91e6e-ed2d-44c0-8bc0-ee9858350d07",
   "metadata": {},
   "source": [
    "The Eliza chatbot is one of the earliest examples of a natural lannguage program that was created in the 1960s by Joseph Weizenbaum (add citation). Eliza works by using simple pattern matching and substitution techniques that give the illusion that Eliza understands the user input. It spots keywords in user input and responds with predeined scripts or transforms statements into questions. \n",
    "\n",
    "For this assignment, Project Group 10 set out to mimix the functionality of the original Eliza chatbot to demostrate our understanding of regular expressions and basic natural language processing. By implementing word-spotting and statement trasnformation logic, we created a simple interactive chatbot that responds to user input in a way that simulates a supportive psychotherapist. This project allowed us to apply regex-based pattern matching and conversational flow design to explore how early NLP systems like Eliza were able to engage users using rul-based responses.\n",
    "\n",
    "Our code begins by importing the required packages. The re package is utilized in order for Eliza to recognize regex patterns. Random is used to randomly select possible responses. The nltk package is used to parse user input and lemmatize the tokens to allow for more robust pattern recognition. \n",
    "We next set up our Eliza chatbot to handle pronoun transformations. We accomplished this by defining what pronouns needed to be transformed. We then defined the function transform_patterns. This function is used to transform I want, I feel, I am, and I don't know statements into questions while incorporating our pronoun transformations. For example, this would transform the statement 'I am sad' to 'Why are you sad?'. It should be noted that this transformation only occurs if a phrase defined in our pattern tuple isn't recognized. Our pattern tuple defines certain regex patterns and creates predefined responses relating to topics such as emotions, health, and identity. We then define fallback responses that occur when a word pattern is not recognized in user input. Our lemmatize_input function lemmatizes lemmatizes each word in user input- meaning that it reduces it down to its most basic form. This enables our regex patterns to be able to capture a wider range of user input. \n",
    "\n",
    "Project Group Ten added several \"bonus features\" to this chatbot. We began my adding a time-appropriate greeting using the function time_of_day_greeting. This function records the system time of the user and greets them with either good morning, good afternoon, or good evening. Our group next added a time delay built into the eliza_response function. This was in order to allow a sense of \"realness\" as if our Eliza was \"thinking\" of a response. The last bonus feature we added was through the function random_encouraging_statements. As the name suggests, this function allowed our Eliza bot to provide random encouraging statements 20% of the time."
   ]
  },
  {
   "cell_type": "code",
   "execution_count": 45,
   "id": "6bd3db2c-39f9-40ff-a604-0932322f242f",
   "metadata": {},
   "outputs": [],
   "source": [
    "import re # package required for regular expression recognition\n",
    "import random # package to allow for random response selection\n",
    "import nltk \n",
    "from nltk.stem import WordNetLemmatizer # package for lemmatizing user input\n",
    "from nltk.tokenize import word_tokenize # package to tokenize user input\n",
    "from nltk.corpus import wordnet # lexical database for the English language\n",
    "import time # package used to introduce time delay of time-based greeting bonus features"
   ]
  },
  {
   "cell_type": "markdown",
   "id": "cac7701a-4ec8-4020-ac85-c14aaeecde82",
   "metadata": {},
   "source": [
    "### Pronoun Replacement Rules"
   ]
  },
  {
   "cell_type": "markdown",
   "id": "248e8eb3-8474-45a0-a623-02384fbe30a1",
   "metadata": {},
   "source": [
    "Replacements is a list of regex-based substitution rules used to transform the user's input into a reflective response. The purpose of this is to make Eliza's responses sound more natural and conversational by mirroring what the user says from Eliza's POV. Each tuple in this list has a regex pattern that matches a specific word or phrase, such as I, and swaps it with a replacement string, such as you. This is utilized in the transform_patterns function in order to transform pronouns."
   ]
  },
  {
   "cell_type": "code",
   "execution_count": 33,
   "id": "338dc16a-8e9d-4af4-b64d-e99386acfa48",
   "metadata": {},
   "outputs": [],
   "source": [
    "replacements = [\n",
    "    (re.compile(r'\\bI am\\b', re.IGNORECASE), 'you are'),\n",
    "    (re.compile(r'\\bI\\b', re.IGNORECASE), 'you'),\n",
    "    (re.compile(r'\\bme\\b', re.IGNORECASE), 'you'),\n",
    "    (re.compile(r'\\bmy\\b', re.IGNORECASE), 'your'),\n",
    "    (re.compile(r'\\bmine\\b', re.IGNORECASE), 'yours'),\n",
    "    (re.compile(r'\\byou are\\b', re.IGNORECASE), 'I am'),\n",
    "    (re.compile(r'\\byou\\b', re.IGNORECASE), 'me'),\n",
    "    (re.compile(r'\\byour\\b', re.IGNORECASE), 'my'),\n",
    "    (re.compile(r'\\byours\\b', re.IGNORECASE), 'mine')\n",
    "]"
   ]
  },
  {
   "cell_type": "markdown",
   "id": "ae388539-b523-4d63-9c04-3dc253d1eec5",
   "metadata": {},
   "source": [
    "### Transform Statements into Questions"
   ]
  },
  {
   "cell_type": "markdown",
   "id": "fc55c649-67d1-453a-bd64-0e7b51df705c",
   "metadata": {},
   "source": [
    "Transform_patterns defines a set of regex-based transformation rules used in an Eliza-style chatbot to convert user statements into questions. This allows our Eliza chatbot to sound thoughtful and empathetic. Each tuple starts with a regular expression to match certain sentence structures such as \"I want\" or \"I feel\". A lambda function then recieves a match object from the regex and the user's name and transforms if by applying replacements rules. A grammatically correct follow-up quetsion is then built based on the user's input."
   ]
  },
  {
   "cell_type": "code",
   "execution_count": 34,
   "id": "1cf73d8f-68cf-4883-beb9-71607c956905",
   "metadata": {},
   "outputs": [],
   "source": [
    "transform_patterns = [\n",
    "    (re.compile(r'\\bi want to (.+)', re.IGNORECASE), \n",
    "     lambda match, name: f\"{name}, why do you want to \" + \n",
    "        (lambda text: [pattern.sub(replacement, text) for pattern, replacement in replacements][-1])(match.group(1)) + \"?\"),\n",
    "\n",
    "    (re.compile(r'\\bi feel (.+)', re.IGNORECASE),\n",
    "     lambda match, name: f\"What makes you feel \" + \n",
    "        (lambda text: [pattern.sub(replacement, text) for pattern, replacement in replacements][-1])(match.group(1)) + \"?\"),\n",
    "\n",
    "    (re.compile(r'\\bi am (.+)', re.IGNORECASE),\n",
    "     lambda match, name: f\"How long have you been \" + \n",
    "        (lambda text: [pattern.sub(replacement, text) for pattern, replacement in replacements][-1])(match.group(1)) + \"?\"),\n",
    "\n",
    "    (re.compile(r\"\\bi don'?t know (.+)\", re.IGNORECASE),\n",
    "     lambda match, name: f\"What makes you uncertain about \" + \n",
    "        (lambda text: [pattern.sub(replacement, text) for pattern, replacement in replacements][-1])(match.group(1)) + \"?\"),\n",
    "]"
   ]
  },
  {
   "cell_type": "markdown",
   "id": "34a632c6-bc0c-4eee-9d3c-77504314ec8f",
   "metadata": {},
   "source": [
    "### Patterns to Recognize"
   ]
  },
  {
   "cell_type": "markdown",
   "id": "06ee23cb-8336-4eda-ab03-82aa3785b629",
   "metadata": {},
   "source": [
    "The patterns variable is a list of dictionaries where each dictionary contains a regex and a corresponding response. This structure enables word spotting that allows Eliza to recognize certain keywords or phrases in user input and respond in a relevent way. Each dictionary has a pattern and a response. The pattern is a compiled regex pattern that matches emotional wrods, life circumstances, or common phrases. The response defines the text Eliza will response with if the pattern matches the user's input. This expansive list allows Eliza to detect mental health-related topics, suport relationship, work, school, and health-related triggers, handles existential questions, and addresses critical safety concerns. This list is scanned linearly, so the first match that is found is used. "
   ]
  },
  {
   "cell_type": "code",
   "execution_count": 49,
   "id": "eea8515f-6846-4b12-a118-4ab49698199d",
   "metadata": {},
   "outputs": [],
   "source": [
    "patterns = [\n",
    "    # Emotions\n",
    "    {'pattern': re.compile(r'\\b(sad|depress|depressed|unhappy)\\b', re.IGNORECASE), 'response': \"I'm sorry to hear that. Can you talk more about it?\"},\n",
    "    {'pattern': re.compile(r'\\b(happy|joyful|excited)\\b', re.IGNORECASE), 'response': \"That's wonderful to hear. What’s been making you feel this way?\"},\n",
    "    {'pattern': re.compile(r'\\b(anxious|nervous|worried)\\b', re.IGNORECASE), 'response': \"What’s been causing you to feel anxious?\"},\n",
    "    {'pattern': re.compile(r'\\b(tired|exhausted|drained)\\b', re.IGNORECASE), 'response': \"What’s been wearing you out lately?\"},\n",
    "    {'pattern': re.compile(r'\\b(lonely|alone)\\b', re.IGNORECASE), 'response': \"Do you often feel this way?\"},\n",
    "    {'pattern': re.compile(r'\\b(mad|angry|furious)\\b', re.IGNORECASE), 'response': \"What do you think is the source of your anger?\"},\n",
    "    {'pattern': re.compile(r'\\b(confused|uncertain)\\b', re.IGNORECASE), 'response': \"What are you feeling uncertain about?\"},\n",
    "    {'pattern': re.compile(r'\\b(relaxed|calm|peaceful)\\b', re.IGNORECASE), 'response': \"That’s a good state to be in. What helps you stay that way?\"},\n",
    "    {'pattern': re.compile(r'\\b(frustrated|irritated|annoyed)\\b', re.IGNORECASE), 'response': \"Can you tell me more about what's been frustrating you?\"},\n",
    "    {'pattern': re.compile(r'\\b(hopeless|worthless|numb)\\b', re.IGNORECASE), 'response': \"These feelings can be heavy. What do you think contributes to them?\"},\n",
    "\n",
    "    # Desires/Needs\n",
    "    {'pattern': re.compile(r'\\b(crave|craving)\\b', re.IGNORECASE), 'response': \"Why don't you tell me more about your cravings?\"},\n",
    "    {'pattern': re.compile(r'\\b(need|needs)\\b', re.IGNORECASE), 'response': \"What makes you feel that you need this?\"},\n",
    "    {'pattern': re.compile(r'\\b(want|wants)\\b', re.IGNORECASE), 'response': \"Why do you want that?\"},\n",
    "    {'pattern': re.compile(r'\\b(dream|dreams)\\b', re.IGNORECASE), 'response': \"Tell me more about your dreams.\"},\n",
    "    {'pattern': re.compile(r'\\b(goal|goals|ambition)\\b', re.IGNORECASE), 'response': \"What are your goals, and how do you plan to reach them?\"},\n",
    "\n",
    "    # Social Relationships\n",
    "    {'pattern': re.compile(r'\\b(friend|friends)\\b', re.IGNORECASE), 'response': \"Do you feel supported by your friends?\"},\n",
    "    {'pattern': re.compile(r'\\b(family|parents|sibling)\\b', re.IGNORECASE), 'response': \"How is your relationship with your family?\"},\n",
    "    {'pattern': re.compile(r'\\b(partner|relationship)\\b', re.IGNORECASE), 'response': \"Tell me about your relationship.\"},\n",
    "    {'pattern': re.compile(r'\\b(relationship|dating)\\b', re.IGNORECASE), 'response': \"How do you feel about your current relationship status?\"},\n",
    "    {'pattern': re.compile(r'\\b(divorce|breakup|ex)\\b', re.IGNORECASE), 'response': \"That can be tough. How are you coping with it?\"},\n",
    "\n",
    "    # Work and School\n",
    "    {'pattern': re.compile(r'\\b(job|work|boss)\\b', re.IGNORECASE), 'response': \"How do you feel about your work situation?\"},\n",
    "    {'pattern': re.compile(r'\\b(school|study|class)\\b', re.IGNORECASE), 'response': \"How are things going with school?\"},\n",
    "    {'pattern': re.compile(r'\\b(homework|assignment)\\b', re.IGNORECASE), 'response': \"Do you feel stressed by your schoolwork?\"},\n",
    "    {'pattern': re.compile(r'\\b(stress|stressed)\\b', re.IGNORECASE), 'response': \"What’s been stressing you out lately?\"},\n",
    "    {'pattern': re.compile(r'\\b(overwhelmed|burned out)\\b', re.IGNORECASE), 'response': \"It sounds like a lot. How do you usually cope with this?\"},\n",
    "\n",
    "    # Health\n",
    "    {'pattern': re.compile(r'\\b(sick|ill|unwell)\\b', re.IGNORECASE), 'response': \"I’m sorry to hear that. How long have you been feeling this way?\"},\n",
    "    {'pattern': re.compile(r'\\b(pain|hurt|aches)\\b', re.IGNORECASE), 'response': \"Where are you feeling pain?\"},\n",
    "    {'pattern': re.compile(r'\\b(sleep|insomnia)\\b', re.IGNORECASE), 'response': \"How has your sleep been lately?\"},\n",
    "    {'pattern': re.compile(r'\\b(appetite|eating|food)\\b', re.IGNORECASE), 'response': \"Have you noticed any changes in your appetite?\"},\n",
    "    {'pattern': re.compile(r'\\b(medication|therapy)\\b', re.IGNORECASE), 'response': \"Are you currently getting support for this?\"},\n",
    "\n",
    "    # Existential\n",
    "    {'pattern': re.compile(r'\\b(purpose|meaning|why am I)\\b', re.IGNORECASE), 'response': \"Do you often think about the meaning of life?\"},\n",
    "    {'pattern': re.compile(r'\\b(regret|guilt|ashamed)\\b', re.IGNORECASE), 'response': \"Would you like to talk more about that feeling of regret?\"},\n",
    "    {'pattern': re.compile(r'\\b(death|die|dying)\\b', re.IGNORECASE), 'response': \"That’s a difficult topic. What are your thoughts on it?\"},\n",
    "    {'pattern': re.compile(r'\\b(faith|god|spiritual)\\b', re.IGNORECASE), 'response': \"How does your spirituality influence your thoughts?\"},\n",
    "    {'pattern': re.compile(r'\\b(future|fear of the future)\\b', re.IGNORECASE), 'response': \"What are your biggest worries about the future?\"},\n",
    "\n",
    "    # Identity\n",
    "    {'pattern': re.compile(r'\\b(self-esteem|confidence|insecure)\\b', re.IGNORECASE), 'response': \"How do you feel about yourself?\"},\n",
    "    {'pattern': re.compile(r'\\b(identity|who am I)\\b', re.IGNORECASE), 'response': \"Have you been questioning your identity lately?\"},\n",
    "    {'pattern': re.compile(r'\\b(success|failure)\\b', re.IGNORECASE), 'response': \"What does success mean to you?\"},\n",
    "    {'pattern': re.compile(r'\\b(perfectionist|expectations)\\b', re.IGNORECASE), 'response': \"Do you feel pressure to meet certain expectations?\"},\n",
    "    {'pattern': re.compile(r'\\b(change|improve|grow)\\b', re.IGNORECASE), 'response': \"What kind of change are you hoping for?\"},\n",
    "\n",
    "    # Life\n",
    "    {'pattern': re.compile(r'\\b(phone|social media|internet)\\b', re.IGNORECASE), 'response': \"How does technology impact your mood or thoughts?\"},\n",
    "    {'pattern': re.compile(r'\\b(addiction|compulsion)\\b', re.IGNORECASE), 'response': \"Are there behaviors you're trying to control or limit?\"},\n",
    "    {'pattern': re.compile(r'\\b(habit|routine)\\b', re.IGNORECASE), 'response': \"How do your daily routines affect your mindset?\"},\n",
    "    {'pattern': re.compile(r'\\b(hobby|interests)\\b', re.IGNORECASE), 'response': \"What activities bring you joy or calm?\"},\n",
    "    {'pattern': re.compile(r'\\b(travel|vacation)\\b', re.IGNORECASE), 'response': \"Do you find travel relaxing or stressful?\"},\n",
    "    {'pattern': re.compile(r'\\b(a long time|a while|months|years)\\b', re.IGNORECASE), 'response': \"How are you coping with these long-term feelings?\"},\n",
    "\n",
    "    # Eating Disorder\n",
    "    {'pattern': re.compile(r'\\b(bulimia|throw up)\\b', re.IGNORECASE), 'response': \"?\"},\n",
    "    {'pattern': re.compile(r'\\b(starve myself|starving|anorexic)\\b', re.IGNORECASE), 'response': \"?\"},\n",
    "\n",
    "    # Suicidal/Harmful Thoughts\n",
    "    {'pattern': re.compile(r'\\b(hurt|harm|self harm|self-harm)\\b', re.IGNORECASE), 'response': \"Self harm is a very serious issue. What triggers cause you to harm yourself?\"},\n",
    "    {'pattern': re.compile(r'\\b(suicide|suicidal|kill)\\b', re.IGNORECASE), 'response': \"Suicide is very serious. Please contact the suicide hotline by dialing 988.\"},\n",
    "\n",
    "    # Response Patterns\n",
    "    {'pattern': re.compile(r\"\\b(I don't know|not sure|no idea|I do not know)\\b\", re.IGNORECASE), 'response': \"It's okay to not have all the answers. Can we explore that together?\"},\n",
    "    {'pattern': re.compile(r'\\b(rather not say|prefer not to answer|don\\'t want to talk)\\b', re.IGNORECASE), 'response': \"That’s perfectly fine. We can talk about something else when you're ready.\"},\n",
    "    {'pattern': re.compile(r'\\b(my boss|my parents|my partner|they made me)\\b', re.IGNORECASE), 'response': \"How do these people affect your feelings and choices?\"},\n",
    "    {'pattern': re.compile(r'\\b(walk|exercise|sleep|music|meditate|therapy)\\b', re.IGNORECASE), 'response': \"It’s great that you have some coping tools. Do they help consistently?\"},\n",
    "    {'pattern': re.compile(r'\\b(whatever|it doesn’t matter|who cares|I don’t care)\\b', re.IGNORECASE), 'response': \"It sounds like you may be feeling emotionally overwhelmed. Can you tell me more?\"},\n",
    "    {'pattern': re.compile(r'\\b(better|improving|getting there|healing)\\b', re.IGNORECASE), 'response': \"That’s a positive step. What do you think has helped the most?\"},\n",
    "    {'pattern': re.compile(r'\\b(my fault|I messed up|I’m to blame)\\b', re.IGNORECASE), 'response': \"What makes you feel responsible for this?\"},\n",
    "    {'pattern': re.compile(r'\\b(scared|afraid|fear|nervous)\\b', re.IGNORECASE), 'response': \"Can we talk more about what makes you feel this way?\"},\n",
    "    {'pattern': re.compile(r'\\b(numb|nothing|empty|disconnected)\\b', re.IGNORECASE), 'response': \"That sounds difficult. When did you start feeling like this?\"},\n",
    "    {'pattern': re.compile(r'\\b(long|while)\\b', re.IGNORECASE), 'response': \"I'm sorry you've been dealing with this feeling for a long period of time. How do you cope with these feelings?\"},\n",
    "]"
   ]
  },
  {
   "cell_type": "markdown",
   "id": "7b7f5653-1bd0-4be3-a230-b10eb925cc8c",
   "metadata": {},
   "source": [
    "### Fallback Responses"
   ]
  },
  {
   "cell_type": "markdown",
   "id": "23fb9610-762d-4d4f-b9f6-940be1f67a5b",
   "metadata": {},
   "source": [
    "Fallback_responses is a list of default replies that he Eliza chatbot uses when no transformation pattern or keyword matches the user's input. This ensures that Eliza still responds even if the input is unclear in order to maintain conversational flow. "
   ]
  },
  {
   "cell_type": "code",
   "execution_count": 36,
   "id": "5805fdc5-9f40-47c4-8ebd-b8e35429940d",
   "metadata": {},
   "outputs": [],
   "source": [
    "fallback_responses = [\n",
    "    \"Can you say that another way?\",\n",
    "    \"I'm not sure I understand, but I'm here to listen.\",\n",
    "    \"Tell me more about that.\",\n",
    "    \"Please go on.\",\n",
    "]"
   ]
  },
  {
   "cell_type": "markdown",
   "id": "73898e31-fe9f-4290-8878-8d8c29a360b4",
   "metadata": {},
   "source": [
    "### Lemmatize Input"
   ]
  },
  {
   "cell_type": "markdown",
   "id": "e5e670eb-5ace-4de0-846d-68c769be8809",
   "metadata": {},
   "source": [
    "This defines a lemmatization function which is used to simplify user input in a sentence to their base form. It begins by creating an isntance of NLTK's WordNetLemmatizer. lemmatize_input is then defined and begins by splitting the input sentence into individual words and then applied lemmatization to each word. It uses the defaul part of speech (noun), so it may not always lemmatize verbs or adjectives correctly. It then joins the list of lemmatized words back into a sentence as a single string. "
   ]
  },
  {
   "cell_type": "code",
   "execution_count": 46,
   "id": "82551c7a-a543-42db-8ebc-c64e8485f6be",
   "metadata": {},
   "outputs": [],
   "source": [
    "lemmatizer = WordNetLemmatizer()\n",
    "\n",
    "def lemmatize_input(text):\n",
    "    tokens = word_tokenize(text)\n",
    "    lemmatized = [lemmatizer.lemmatize(word) for word in tokens]\n",
    "    return ' '.join(lemmatized)"
   ]
  },
  {
   "cell_type": "markdown",
   "id": "1138fff0-18f9-41b5-858a-94d2c6f7d33b",
   "metadata": {},
   "source": [
    "### Adds a Time Delay to Eliza Response"
   ]
  },
  {
   "cell_type": "markdown",
   "id": "1f3a3ecb-b1ed-4a2d-8062-c6bee14a4bc6",
   "metadata": {},
   "source": [
    "This code defines a function called eliza_response that simulates a human-like delay when the chatbot replied to the user. This function displays a message to the user indicating that Eliza is \"typing\" in order to mimick a human response. The program pauses for 1.5 seconds to mimick a human taking time to think/type. It will then print Eliza's response after this delay.  "
   ]
  },
  {
   "cell_type": "code",
   "execution_count": 37,
   "id": "9ed69681-56de-4479-b30d-d4e135433d9c",
   "metadata": {},
   "outputs": [],
   "source": [
    "def eliza_response(text, delay=1.5):\n",
    "    print(\"[Eliza is typing...]\")\n",
    "    time.sleep(delay)  # Delay in seconds\n",
    "    print(f\"[Eliza] {text}\")"
   ]
  },
  {
   "cell_type": "markdown",
   "id": "44b544e9-b2e2-4f31-80cb-fbb1543438f1",
   "metadata": {},
   "source": [
    "### Random Encouraging Statements"
   ]
  },
  {
   "cell_type": "markdown",
   "id": "49426aad-6ea8-4e13-a6d8-bcaac8620fb8",
   "metadata": {},
   "source": [
    "This list of supportive messages and a function that randomly selects and prints one, simulating an encouraging therapist. This function creates a 20% probability that Eliza will say an encouraging statemnet after a normal reply. The reply is randomly selected form the encouraging_statements list. "
   ]
  },
  {
   "cell_type": "code",
   "execution_count": 38,
   "id": "b9f3bef0-62ca-4673-b3e0-ff307c1b6cd3",
   "metadata": {},
   "outputs": [],
   "source": [
    "encouraging_statements = [\n",
    "    \"You're doing great by opening up.\",\n",
    "    \"Thank you for sharing with me.\",\n",
    "    \"I appreciate you opening up to me.\",\n",
    "    \"I appreciate you sharing this with me.\"\n",
    "]\n",
    "\n",
    "def random_encouraging_statements(chance = 0.2):\n",
    "    if random.random() < chance:\n",
    "        eliza_response(f\"{random.choice(encouraging_statements)}\")"
   ]
  },
  {
   "cell_type": "markdown",
   "id": "8766a1f9-7d31-4374-a3be-8bd74687d9a4",
   "metadata": {},
   "source": [
    "### Eliza Greeting Based on Time of Day"
   ]
  },
  {
   "cell_type": "markdown",
   "id": "a59fe792-45eb-41df-9ab2-f3375ac0b31b",
   "metadata": {},
   "source": [
    "The time_of_day_greeting function is desined to return a greeting based on the current time of day. This adds a human-like touch to Eliza. It works by checking the current hour on the user's system and returns \"Good morning\" before 12pm, \"Good afternoon\" between 12pm and 5pm, and \"Good evening\" between 5pm and 12am. "
   ]
  },
  {
   "cell_type": "code",
   "execution_count": 40,
   "id": "32f593fa-9a76-4b13-b553-7da9ec6a1cfe",
   "metadata": {},
   "outputs": [],
   "source": [
    "def time_of_day_greeting():\n",
    "    time_of_day = time.strftime('%H:%M:%S')\n",
    "    hour_of_day = int(time.strftime('%H'))\n",
    "\n",
    "    if hour_of_day < 12:\n",
    "        return 'Good morning'\n",
    "    elif hour_of_day < 17:\n",
    "        return 'Good afternoon'\n",
    "    else:\n",
    "        return 'Good evening'"
   ]
  },
  {
   "cell_type": "markdown",
   "id": "0a119dd7-0703-414b-b33c-a9bd6fde51f5",
   "metadata": {},
   "source": [
    "### Chatbot Loop"
   ]
  },
  {
   "cell_type": "markdown",
   "id": "dfd9a714-0d0c-408b-a524-01d7060c02ac",
   "metadata": {},
   "source": [
    "This function is the core logic of our Eliza chatbot. It begins by calling the time_of_day function to gather the user's system hour and provide an appropriate greeting. It then prompts the user for their name and removes any extra whitespace around the input. Eliza replies, greeting the user by name using the eliza_response function, which includes the time delay and Eliza is typing feature. It then starts an infinite loop that runs until the user types exit, quit, or bye. It will ask the user for their next statement and remove extra spaces. If the user indicates that they want to end the session, Eliza responds and the loop breaks. The input is lemmatized. The input is checked to see if it fits any known sentence structures, such as \"I want\". If there is a match, the transform_patterns function is used to provide a realistic question transformation. It will then send this response and skip this in the next loop iteration. If there is no transformation match, it checks for keywords. If matches, Eliza responds with the pre-defined message. Eliza then has a 20% chance of providing a random encouraging statement. If no patterns or transformation match, Eliza picks a generic fallback. "
   ]
  },
  {
   "cell_type": "code",
   "execution_count": 47,
   "id": "b99068a6-c111-4896-b6fa-0f7b70e56e02",
   "metadata": {},
   "outputs": [],
   "source": [
    "def main():\n",
    "\n",
    "    time_of_day = time_of_day_greeting() # time of day function to provide time-appropriate greeting. \n",
    "    \n",
    "    print(\"[Eliza] Hi, I'm a psychotherapist. What is your name?\") # prompts user and asks for name\n",
    "    patient_name = input(\"=> \").strip() # takes user input and strips white spaces\n",
    "    eliza_response(f\"Hi {patient_name}. How can I help you today?\") # Eliza responds using patient name and asks what help the user needs\n",
    "\n",
    "    while True: # starts infinite while loop\n",
    "        user_input = input(f\"[{patient_name}] \").strip() # takes user input and strips white spaces.\n",
    " \n",
    "        if user_input.lower() in ['exit', 'quit', 'bye']: # checks if user indicates end of conversation\n",
    "            eliza_response(f\"Goodbye {patient_name}. Take care!\")\n",
    "            break\n",
    "\n",
    "        lemmatized_input = lemmatize_input(user_input) # if user does not indicate end of converation, input is lemmatized\n",
    "\n",
    "\n",
    "        # Check transformation patterns first\n",
    "        for pattern, func in transform_patterns:\n",
    "            match = pattern.search(lemmatized_input) # searches for pattern match in lemmatized input\n",
    "            if match:\n",
    "                eliza_response(func(match, patient_name)) # if there is a match, Eliza provides the corresponding response\n",
    "                break\n",
    "        else: \n",
    "            # Check for keyword spotting\n",
    "            for entry in patterns:\n",
    "                if entry['pattern'].search(user_input): # searches for pattern match in lemmatized input\n",
    "                    eliza_response(entry['response']) # if there is a match, Eliza provides the corresponding response\n",
    "                    random_encouraging_statements() # adds 20% of a random encouraging statement\n",
    "                    break\n",
    "            else:\n",
    "                # Fallback response\n",
    "                eliza_response(random.choice(fallback_responses)) # provides a fallback response if no matches"
   ]
  },
  {
   "cell_type": "markdown",
   "id": "d63a53e3-f5b5-4c80-912f-62479c39c726",
   "metadata": {},
   "source": [
    "### Run Eliza"
   ]
  },
  {
   "cell_type": "markdown",
   "id": "97027328-96bd-4372-8de0-fae417d0c9b4",
   "metadata": {},
   "source": [
    "This line ensures that the main() function runs only when the script is exectued direclty, not when it's imported as a module into another program. This is a standard Python practice that allows this file to service both as a standalone program and a reusable module. This prompts Eliza to run."
   ]
  },
  {
   "cell_type": "code",
   "execution_count": 48,
   "id": "00879ef5-acc4-45f3-a6d7-c9cfbd057d76",
   "metadata": {},
   "outputs": [
    {
     "name": "stdout",
     "output_type": "stream",
     "text": [
      "[Eliza] Hi, I'm a psychotherapist. What is your name?\n"
     ]
    },
    {
     "name": "stdin",
     "output_type": "stream",
     "text": [
      "=>  Taylor\n"
     ]
    },
    {
     "name": "stdout",
     "output_type": "stream",
     "text": [
      "[Eliza is typing...]\n",
      "[Eliza] Hi Taylor. How can I help you today?\n"
     ]
    },
    {
     "name": "stdin",
     "output_type": "stream",
     "text": [
      "[Taylor]  I need to talk to someone\n"
     ]
    },
    {
     "name": "stdout",
     "output_type": "stream",
     "text": [
      "[Eliza is typing...]\n",
      "[Eliza] What makes you feel that you need this?\n"
     ]
    },
    {
     "name": "stdin",
     "output_type": "stream",
     "text": [
      "[Taylor]  I have no one to talk to\n"
     ]
    },
    {
     "name": "stdout",
     "output_type": "stream",
     "text": [
      "[Eliza is typing...]\n",
      "[Eliza] Can you say that another way?\n"
     ]
    },
    {
     "name": "stdin",
     "output_type": "stream",
     "text": [
      "[Taylor]  I am sad\n"
     ]
    },
    {
     "name": "stdout",
     "output_type": "stream",
     "text": [
      "[Eliza is typing...]\n",
      "[Eliza] How long have you been sad?\n"
     ]
    },
    {
     "name": "stdin",
     "output_type": "stream",
     "text": [
      "[Taylor]  A long time. I am very lonely\n"
     ]
    },
    {
     "name": "stdout",
     "output_type": "stream",
     "text": [
      "[Eliza is typing...]\n",
      "[Eliza] How long have you been very lonely?\n"
     ]
    },
    {
     "name": "stdin",
     "output_type": "stream",
     "text": [
      "[Taylor]  A long time\n"
     ]
    },
    {
     "name": "stdout",
     "output_type": "stream",
     "text": [
      "[Eliza is typing...]\n",
      "[Eliza] How are you coping with these long-term feelings?\n"
     ]
    },
    {
     "name": "stdin",
     "output_type": "stream",
     "text": [
      "[Taylor]  I listen to music sometimes\n"
     ]
    },
    {
     "name": "stdout",
     "output_type": "stream",
     "text": [
      "[Eliza is typing...]\n",
      "[Eliza] It’s great that you have some coping tools. Do they help consistently?\n",
      "[Eliza is typing...]\n",
      "[Eliza] You're doing great by opening up.\n"
     ]
    },
    {
     "name": "stdin",
     "output_type": "stream",
     "text": [
      "[Taylor]  quir\n"
     ]
    },
    {
     "name": "stdout",
     "output_type": "stream",
     "text": [
      "[Eliza is typing...]\n",
      "[Eliza] Can you say that another way?\n"
     ]
    },
    {
     "name": "stdin",
     "output_type": "stream",
     "text": [
      "[Taylor]  quit\n"
     ]
    },
    {
     "name": "stdout",
     "output_type": "stream",
     "text": [
      "[Eliza is typing...]\n",
      "[Eliza] Goodbye Taylor. Take care!\n"
     ]
    }
   ],
   "source": [
    "if __name__ == \"__main__\":\n",
    "    main()"
   ]
  }
 ],
 "metadata": {
  "kernelspec": {
   "display_name": "Python 3 (ipykernel)",
   "language": "python",
   "name": "python3"
  },
  "language_info": {
   "codemirror_mode": {
    "name": "ipython",
    "version": 3
   },
   "file_extension": ".py",
   "mimetype": "text/x-python",
   "name": "python",
   "nbconvert_exporter": "python",
   "pygments_lexer": "ipython3",
   "version": "3.11.8"
  }
 },
 "nbformat": 4,
 "nbformat_minor": 5
}
